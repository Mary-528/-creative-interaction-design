{
 "cells": [
  {
   "cell_type": "code",
   "execution_count": 1,
   "id": "2575b5fa",
   "metadata": {},
   "outputs": [
    {
     "data": {
      "text/plain": [
       "int"
      ]
     },
     "execution_count": 1,
     "metadata": {},
     "output_type": "execute_result"
    }
   ],
   "source": [
    "123\n",
    "type(123)"
   ]
  },
  {
   "cell_type": "code",
   "execution_count": 2,
   "id": "fbdeb6ea",
   "metadata": {},
   "outputs": [
    {
     "data": {
      "text/plain": [
       "123"
      ]
     },
     "execution_count": 2,
     "metadata": {},
     "output_type": "execute_result"
    }
   ],
   "source": [
    "123.45\n",
    "int(123.45)"
   ]
  },
  {
   "cell_type": "code",
   "execution_count": 3,
   "id": "eddcdbbb",
   "metadata": {},
   "outputs": [
    {
     "data": {
      "text/plain": [
       "float"
      ]
     },
     "execution_count": 3,
     "metadata": {},
     "output_type": "execute_result"
    }
   ],
   "source": [
    "123.45\n",
    "type(123.45)"
   ]
  },
  {
   "cell_type": "code",
   "execution_count": 4,
   "id": "93cf2c77",
   "metadata": {},
   "outputs": [
    {
     "data": {
      "text/plain": [
       "str"
      ]
     },
     "execution_count": 4,
     "metadata": {},
     "output_type": "execute_result"
    }
   ],
   "source": [
    "'123.45'\n",
    "type('123.45')"
   ]
  },
  {
   "cell_type": "code",
   "execution_count": 5,
   "id": "f881be74",
   "metadata": {},
   "outputs": [
    {
     "name": "stdout",
     "output_type": "stream",
     "text": [
      "Hello,world\n"
     ]
    }
   ],
   "source": [
    "print('Hello,world')\n"
   ]
  },
  {
   "cell_type": "code",
   "execution_count": 7,
   "id": "876e0f42",
   "metadata": {},
   "outputs": [
    {
     "name": "stdout",
     "output_type": "stream",
     "text": [
      "123 123.45 123.45\n",
      "<class 'int'> <class 'float'> <class 'str'>\n"
     ]
    }
   ],
   "source": [
    "x = 123\n",
    "y =123.45\n",
    "z = '123.45'\n",
    "print(x,y,z)\n",
    "print(type(x),type(y),type(z))"
   ]
  },
  {
   "cell_type": "code",
   "execution_count": 8,
   "id": "f9bb45a1",
   "metadata": {},
   "outputs": [
    {
     "name": "stdout",
     "output_type": "stream",
     "text": [
      "<class 'bool'>\n"
     ]
    }
   ],
   "source": [
    "sign_up = True\n",
    "print(type(sign_up))"
   ]
  },
  {
   "cell_type": "code",
   "execution_count": 9,
   "id": "2e27eb20",
   "metadata": {},
   "outputs": [
    {
     "name": "stdout",
     "output_type": "stream",
     "text": [
      "The result of 123+123.45=246.45\n"
     ]
    }
   ],
   "source": [
    "z = 'The result of '+ str(x) + '+'+str(y) + '=' + str(x+y)\n",
    "print(z)"
   ]
  },
  {
   "cell_type": "code",
   "execution_count": 10,
   "id": "643e4d8f",
   "metadata": {
    "scrolled": true
   },
   "outputs": [
    {
     "name": "stdout",
     "output_type": "stream",
     "text": [
      "I am\n",
      "I am from CUC\n",
      "CUC\n"
     ]
    }
   ],
   "source": [
    "z = 'I am from CUC'\n",
    "print(z[0:4])\n",
    "print(z[0:14])\n",
    "print(z[-3:])"
   ]
  },
  {
   "cell_type": "code",
   "execution_count": 12,
   "id": "94e3de95",
   "metadata": {},
   "outputs": [
    {
     "name": "stdout",
     "output_type": "stream",
     "text": [
      "13\n",
      "I am from CUC\n",
      "UC\n",
      "CUC\n"
     ]
    }
   ],
   "source": [
    "print(len(z))\n",
    "print(z[0:13])\n",
    "print(z[-2:])\n",
    "print(z[10:13])"
   ]
  },
  {
   "cell_type": "code",
   "execution_count": 14,
   "id": "10ee32a7",
   "metadata": {},
   "outputs": [
    {
     "name": "stdout",
     "output_type": "stream",
     "text": [
      "Princess Kate\n"
     ]
    }
   ],
   "source": [
    "famous_person ='Princess Diana'\n",
    "famous_person2 ='Price Charles'\n",
    "famous_person3 = famous_person.replace('Diana','Kate')\n",
    "print(famous_person3)"
   ]
  },
  {
   "cell_type": "code",
   "execution_count": 15,
   "id": "7353729c",
   "metadata": {},
   "outputs": [
    {
     "name": "stdout",
     "output_type": "stream",
     "text": [
      "['Princess', 'Diana']\n"
     ]
    }
   ],
   "source": [
    "print(famous_person.split())"
   ]
  },
  {
   "cell_type": "code",
   "execution_count": 17,
   "id": "a0d53934",
   "metadata": {},
   "outputs": [
    {
     "name": "stdout",
     "output_type": "stream",
     "text": [
      "Price William\n"
     ]
    }
   ],
   "source": [
    "famous_person4 = famous_person2.replace('Charles','William')\n",
    "print(famous_person4)"
   ]
  },
  {
   "cell_type": "code",
   "execution_count": 18,
   "id": "18c49848",
   "metadata": {},
   "outputs": [
    {
     "name": "stdout",
     "output_type": "stream",
     "text": [
      "PRICE WILLIAM\n"
     ]
    }
   ],
   "source": [
    "famous_person4 = famous_person4.upper()\n",
    "print(famous_person4)"
   ]
  },
  {
   "cell_type": "code",
   "execution_count": 20,
   "id": "9e4985c6",
   "metadata": {},
   "outputs": [
    {
     "name": "stdout",
     "output_type": "stream",
     "text": [
      "-1\n",
      "9\n",
      "-1\n"
     ]
    }
   ],
   "source": [
    "print(famous_person4.find('PRINCE'))\n",
    "print(famous_person.find('Diana'))\n",
    "print(famous_person.find('Kate'))"
   ]
  },
  {
   "cell_type": "code",
   "execution_count": 21,
   "id": "0e08c292",
   "metadata": {},
   "outputs": [
    {
     "data": {
      "text/plain": [
       "str"
      ]
     },
     "execution_count": 21,
     "metadata": {},
     "output_type": "execute_result"
    }
   ],
   "source": [
    "x = 3.14\n",
    "y =str(x)\n",
    "type(y)"
   ]
  },
  {
   "cell_type": "code",
   "execution_count": 23,
   "id": "16810570",
   "metadata": {},
   "outputs": [
    {
     "data": {
      "text/plain": [
       "float"
      ]
     },
     "execution_count": 23,
     "metadata": {},
     "output_type": "execute_result"
    }
   ],
   "source": [
    "x = 3\n",
    "y =float(x)\n",
    "type(y)"
   ]
  },
  {
   "cell_type": "code",
   "execution_count": 25,
   "id": "74a6771d",
   "metadata": {},
   "outputs": [
    {
     "name": "stdout",
     "output_type": "stream",
     "text": [
      "(1, 1.32, 2, 'CUC')\n"
     ]
    }
   ],
   "source": [
    "tuple1=(1,1.32,2,'CUC')\n",
    "print(tuple1)"
   ]
  },
  {
   "cell_type": "code",
   "execution_count": 26,
   "id": "0d825803",
   "metadata": {},
   "outputs": [
    {
     "name": "stdout",
     "output_type": "stream",
     "text": [
      "[1, 1.5, 2, 3, 4, 5]\n"
     ]
    }
   ],
   "source": [
    "list1=[1,2,3,4,5,1.5]\n",
    "print(sorted(list1))"
   ]
  },
  {
   "cell_type": "code",
   "execution_count": 27,
   "id": "e4bb7b86",
   "metadata": {},
   "outputs": [
    {
     "name": "stdout",
     "output_type": "stream",
     "text": [
      "60\n",
      "[100, 95, 85, 60, 60.5, 70, 50]\n"
     ]
    }
   ],
   "source": [
    "score_list =[100,95,85,60,60.5,70]\n",
    "print(score_list[3])\n",
    "score_list.append(50)\n",
    "print(score_list)"
   ]
  },
  {
   "cell_type": "code",
   "execution_count": 28,
   "id": "5b0056e5",
   "metadata": {},
   "outputs": [
    {
     "name": "stdout",
     "output_type": "stream",
     "text": [
      "[100, 95, 85, 60, 60.5, 70]\n"
     ]
    }
   ],
   "source": [
    "del(score_list[6])\n",
    "print(score_list)"
   ]
  },
  {
   "cell_type": "code",
   "execution_count": 29,
   "id": "fdc96882",
   "metadata": {},
   "outputs": [
    {
     "name": "stdout",
     "output_type": "stream",
     "text": [
      "[60, 60.5, 70]\n",
      "[100, 95, 85, 60, 60.5, 70]\n"
     ]
    }
   ],
   "source": [
    "print(score_list[3:7])\n",
    "print(score_list)"
   ]
  },
  {
   "cell_type": "code",
   "execution_count": 30,
   "id": "d48b0399",
   "metadata": {},
   "outputs": [
    {
     "name": "stdout",
     "output_type": "stream",
     "text": [
      "[100, 95, 85, 60, 60.5, 70, [1, 2, 3, 'I am from CUC', True]]\n"
     ]
    }
   ],
   "source": [
    "score_list.append([1,2,3,'I am from CUC',True])\n",
    "print(score_list)"
   ]
  },
  {
   "cell_type": "code",
   "execution_count": 33,
   "id": "e5d8adae",
   "metadata": {},
   "outputs": [
    {
     "name": "stdout",
     "output_type": "stream",
     "text": [
      "[100, 95, 85, 60, 60.5, 70, [1, 2, 3, 'I am from CUC', True], [11, 22, 33, [44, 55, 66]]]\n"
     ]
    }
   ],
   "source": [
    "second_list =[11,22,33]\n",
    "second_list.append([44,55,66])\n",
    "score_list.append(second_list)\n",
    "print(score_list)"
   ]
  },
  {
   "cell_type": "code",
   "execution_count": 34,
   "id": "9cafd35d",
   "metadata": {},
   "outputs": [
    {
     "name": "stdout",
     "output_type": "stream",
     "text": [
      "[95, 85, 60, 60.5, 70, [1, 2, 3, 'I am from CUC', True], [11, 22, 33, [44, 55, 66]]]\n"
     ]
    }
   ],
   "source": [
    "score_list.remove(100)\n",
    "print(score_list)"
   ]
  },
  {
   "cell_type": "code",
   "execution_count": 36,
   "id": "10691e21",
   "metadata": {},
   "outputs": [
    {
     "name": "stdout",
     "output_type": "stream",
     "text": [
      "{'Peter': 80, 'David': 70, 'Mary': 90}\n",
      "dict_keys(['Peter', 'David', 'Mary'])\n",
      "dict_values([80, 70, 90])\n"
     ]
    }
   ],
   "source": [
    "dict1 ={'Peter':80,'David':70,'Mary':90}\n",
    "print(dict1)\n",
    "print(dict1.keys())\n",
    "print(dict1.values())"
   ]
  },
  {
   "cell_type": "code",
   "execution_count": 37,
   "id": "1547b6ca",
   "metadata": {},
   "outputs": [
    {
     "name": "stdout",
     "output_type": "stream",
     "text": [
      "70\n"
     ]
    }
   ],
   "source": [
    "print(dict1['David'])"
   ]
  },
  {
   "cell_type": "code",
   "execution_count": 38,
   "id": "11352612",
   "metadata": {},
   "outputs": [
    {
     "name": "stdout",
     "output_type": "stream",
     "text": [
      "[{'Peter': 80, 'David': 70, 'Mary': 90}]\n"
     ]
    }
   ],
   "source": [
    "score_list = []\n",
    "score_list.append(dict1)\n",
    "print(score_list)"
   ]
  },
  {
   "cell_type": "code",
   "execution_count": 39,
   "id": "e6508522",
   "metadata": {},
   "outputs": [
    {
     "name": "stdout",
     "output_type": "stream",
     "text": [
      "[{'Peter': 80, 'David': 70, 'Mary': 90}, {'Peter': 100, 'David': 90, 'Mary': 80}]\n"
     ]
    }
   ],
   "source": [
    "test1 ={'Peter': 80, 'David': 70, 'Mary': 90}\n",
    "test2 ={'Peter': 100, 'David': 90, 'Mary': 80}\n",
    "score_list =[]\n",
    "score_list.append(test1)\n",
    "score_list.append(test2)\n",
    "print(score_list)"
   ]
  },
  {
   "cell_type": "code",
   "execution_count": 40,
   "id": "7b3fcf37",
   "metadata": {},
   "outputs": [
    {
     "name": "stdout",
     "output_type": "stream",
     "text": [
      "{1.0, (1, 2, 3), 'Hello'}\n"
     ]
    }
   ],
   "source": [
    "my_set ={1.0,'Hello',(1,2,3)}\n",
    "print(my_set)"
   ]
  },
  {
   "cell_type": "code",
   "execution_count": 41,
   "id": "157f97c6",
   "metadata": {},
   "outputs": [
    {
     "name": "stdout",
     "output_type": "stream",
     "text": [
      "<class 'set'>\n"
     ]
    }
   ],
   "source": [
    "print(type(my_set))"
   ]
  },
  {
   "cell_type": "code",
   "execution_count": 42,
   "id": "b8f22287",
   "metadata": {},
   "outputs": [
    {
     "name": "stdout",
     "output_type": "stream",
     "text": [
      "{1, 2, 4, 5}\n"
     ]
    }
   ],
   "source": [
    "my_set ={1,2,2,4,5}\n",
    "print(my_set)"
   ]
  },
  {
   "cell_type": "code",
   "execution_count": null,
   "id": "77baab46",
   "metadata": {},
   "outputs": [],
   "source": []
  }
 ],
 "metadata": {
  "kernelspec": {
   "display_name": "Python 3 (ipykernel)",
   "language": "python",
   "name": "python3"
  },
  "language_info": {
   "codemirror_mode": {
    "name": "ipython",
    "version": 3
   },
   "file_extension": ".py",
   "mimetype": "text/x-python",
   "name": "python",
   "nbconvert_exporter": "python",
   "pygments_lexer": "ipython3",
   "version": "3.9.12"
  }
 },
 "nbformat": 4,
 "nbformat_minor": 5
}
